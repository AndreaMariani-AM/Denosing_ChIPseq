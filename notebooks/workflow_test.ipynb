{
 "cells": [
  {
   "cell_type": "code",
   "execution_count": 1,
   "metadata": {},
   "outputs": [
    {
     "name": "stderr",
     "output_type": "stream",
     "text": [
      "/hpcnfs/home/ieo5776/miniconda3/envs/pytorch/lib/python3.11/site-packages/torchvision/io/image.py:13: UserWarning: Failed to load image Python extension: 'libc10_cuda.so: cannot open shared object file: No such file or directory'If you don't plan on using image functionality from `torchvision.io`, you can ignore this warning. Otherwise, there might be something wrong with your environment. Did you have `libjpeg` or `libpng` installed before building `torchvision` from source?\n",
      "  warn(\n"
     ]
    }
   ],
   "source": [
    "import torch\n",
    "from model.vae import VAE_denoiser\n",
    "from model.loader_utils import *"
   ]
  },
  {
   "cell_type": "markdown",
   "metadata": {},
   "source": [
    "# CREATE THE FUNCTION TO RESHAPE DATA AND SAVE IT EXTERNALLY"
   ]
  },
  {
   "cell_type": "code",
   "execution_count": 2,
   "metadata": {},
   "outputs": [
    {
     "data": {
      "text/plain": [
       "VAE_denoiser(\n",
       "  (enc_layer1): Linear(in_features=128, out_features=64, bias=True)\n",
       "  (enc_layer2_mu): Linear(in_features=64, out_features=10, bias=True)\n",
       "  (enc_layer2_logvar): Linear(in_features=64, out_features=10, bias=True)\n",
       "  (dec_layer1): Linear(in_features=10, out_features=64, bias=True)\n",
       "  (dec_layer2): Linear(in_features=64, out_features=128, bias=True)\n",
       ")"
      ]
     },
     "execution_count": 2,
     "metadata": {},
     "output_type": "execute_result"
    }
   ],
   "source": [
    "VAE = VAE_denoiser()\n",
    "VAE"
   ]
  },
  {
   "cell_type": "code",
   "execution_count": 3,
   "metadata": {},
   "outputs": [],
   "source": [
    "train_dataset = BigwWigdDataset(input_dir='/hpcnfs/scratch/DP/amariani/Amariani/denoising_ChIPseq/data/tf', \n",
    "\t\t\t\t\t\t\t\tbg_file='chrom1.bedGraph', \tTrain=True)\n",
    "test_dataset = BigwWigdDataset(input_dir='/hpcnfs/scratch/DP/amariani/Amariani/denoising_ChIPseq/data/tf', \n",
    "\t\t\t\t\t\t\t\tbg_file='chrom1.bedGraph', \tTrain=False)\n",
    "\n",
    "train_DT = DataLoader(train_dataset, batch_size=128, shuffle=False, drop_last=True)\n",
    "test_DT = DataLoader(train_dataset, batch_size=128, shuffle=False, drop_last=True)"
   ]
  },
  {
   "cell_type": "code",
   "execution_count": 12,
   "metadata": {},
   "outputs": [
    {
     "data": {
      "text/html": [
       "<div>\n",
       "<style scoped>\n",
       "    .dataframe tbody tr th:only-of-type {\n",
       "        vertical-align: middle;\n",
       "    }\n",
       "\n",
       "    .dataframe tbody tr th {\n",
       "        vertical-align: top;\n",
       "    }\n",
       "\n",
       "    .dataframe thead th {\n",
       "        text-align: right;\n",
       "    }\n",
       "</style>\n",
       "<table border=\"1\" class=\"dataframe\">\n",
       "  <thead>\n",
       "    <tr style=\"text-align: right;\">\n",
       "      <th></th>\n",
       "      <th>chrom</th>\n",
       "      <th>start</th>\n",
       "      <th>end</th>\n",
       "      <th>score</th>\n",
       "    </tr>\n",
       "  </thead>\n",
       "  <tbody>\n",
       "  </tbody>\n",
       "</table>\n",
       "</div>"
      ],
      "text/plain": [
       "Empty DataFrame\n",
       "Columns: [chrom, start, end, score]\n",
       "Index: []"
      ]
     },
     "execution_count": 12,
     "metadata": {},
     "output_type": "execute_result"
    }
   ],
   "source": [
    "train_dataset._get_data(True)"
   ]
  },
  {
   "cell_type": "code",
   "execution_count": null,
   "metadata": {},
   "outputs": [],
   "source": [
    "# initialize loss function and optimizer\n",
    "adam = torch.optim.Adam(VAE.parameters(), lr=1e-3)\n",
    "\n",
    "trained_model = train_model(train_DT=train_DT, \n",
    "\t\t\t\t\t\t\tmodel=VAE,\n",
    "\t\t\t\t\t\t\toptimizer=adam,\n",
    "\t\t\t\t\t\t\tnum_epochs=2)\n",
    "\n",
    "#torch.save(trained_model, '/hpcnfs/scratch/DP/amariani/Amariani/denoising_ChIPseq/VAE_model.pth')"
   ]
  },
  {
   "cell_type": "code",
   "execution_count": null,
   "metadata": {},
   "outputs": [],
   "source": []
  },
  {
   "cell_type": "markdown",
   "metadata": {},
   "source": [
    "# TESTING"
   ]
  },
  {
   "cell_type": "code",
   "execution_count": 2,
   "metadata": {},
   "outputs": [],
   "source": [
    "import pandas as pd"
   ]
  },
  {
   "cell_type": "code",
   "execution_count": 1,
   "metadata": {},
   "outputs": [
    {
     "ename": "NameError",
     "evalue": "name 'pd' is not defined",
     "output_type": "error",
     "traceback": [
      "\u001b[0;31m---------------------------------------------------------------------------\u001b[0m",
      "\u001b[0;31mNameError\u001b[0m                                 Traceback (most recent call last)",
      "Cell \u001b[0;32mIn[1], line 11\u001b[0m\n\u001b[1;32m      8\u001b[0m lists \u001b[38;5;241m=\u001b[39m [test, validation, to_remove]\n\u001b[1;32m      9\u001b[0m lists\n\u001b[0;32m---> 11\u001b[0m ring \u001b[38;5;241m=\u001b[39m \u001b[43mpd\u001b[49m\u001b[38;5;241m.\u001b[39mread_csv(\u001b[38;5;124m'\u001b[39m\u001b[38;5;124m/hpcnfs/scratch/DP/amariani/Amariani/denoising_ChIPseq/data/tf/RING1B.bedGraph\u001b[39m\u001b[38;5;124m'\u001b[39m, \n\u001b[1;32m     12\u001b[0m \t\t\t\t\t\tsep\u001b[38;5;241m=\u001b[39m\u001b[38;5;124m'\u001b[39m\u001b[38;5;130;01m\\t\u001b[39;00m\u001b[38;5;124m'\u001b[39m, names\u001b[38;5;241m=\u001b[39m[\u001b[38;5;124m'\u001b[39m\u001b[38;5;124mchrom\u001b[39m\u001b[38;5;124m'\u001b[39m, \u001b[38;5;124m'\u001b[39m\u001b[38;5;124mstart\u001b[39m\u001b[38;5;124m'\u001b[39m, \u001b[38;5;124m'\u001b[39m\u001b[38;5;124mend\u001b[39m\u001b[38;5;124m'\u001b[39m, \u001b[38;5;124m'\u001b[39m\u001b[38;5;124mscore\u001b[39m\u001b[38;5;124m'\u001b[39m])\n\u001b[1;32m     14\u001b[0m mask_test \u001b[38;5;241m=\u001b[39m ring[\u001b[38;5;124m'\u001b[39m\u001b[38;5;124mchrom\u001b[39m\u001b[38;5;124m'\u001b[39m]\u001b[38;5;241m.\u001b[39misin(lists[\u001b[38;5;241m0\u001b[39m])\n\u001b[1;32m     15\u001b[0m mask_validation \u001b[38;5;241m=\u001b[39m ring[\u001b[38;5;124m'\u001b[39m\u001b[38;5;124mchrom\u001b[39m\u001b[38;5;124m'\u001b[39m]\u001b[38;5;241m.\u001b[39misin(lists[\u001b[38;5;241m1\u001b[39m])\n",
      "\u001b[0;31mNameError\u001b[0m: name 'pd' is not defined"
     ]
    }
   ],
   "source": [
    "# __init__ would take an argument Train, if true yields train + validation, if false, yields test\n",
    "\n",
    "# hardcoded chromosomes\n",
    "test = ['chr1', 'chr2']\n",
    "validation = ['chr3', 'chr4']\n",
    "to_remove = ['chrY', 'chrM']\n",
    "\n",
    "lists = [test, validation, to_remove]\n",
    "lists\n",
    "\n",
    "ring = pd.read_csv('/hpcnfs/scratch/DP/amariani/Amariani/denoising_ChIPseq/data/tf/RING1B.bedGraph', \n",
    "\t\t\t\t\t\tsep='\\t', names=['chrom', 'start', 'end', 'score'])\n",
    "\n",
    "mask_test = ring['chrom'].isin(lists[0])\n",
    "mask_validation = ring['chrom'].isin(lists[1])\n",
    "mask_remove = ring['chrom'].isin(lists[2])"
   ]
  },
  {
   "cell_type": "code",
   "execution_count": 13,
   "metadata": {},
   "outputs": [
    {
     "data": {
      "text/plain": [
       "['chrY', 'chrM']"
      ]
     },
     "execution_count": 13,
     "metadata": {},
     "output_type": "execute_result"
    }
   ],
   "source": [
    "lists[2]"
   ]
  },
  {
   "cell_type": "code",
   "execution_count": 11,
   "metadata": {},
   "outputs": [
    {
     "data": {
      "text/plain": [
       "chrom\n",
       "chr1     1112044\n",
       "chr2     1029173\n",
       "chr3      918840\n",
       "chr4      851438\n",
       "chrX      838680\n",
       "chr6      834620\n",
       "chr5      833770\n",
       "chr10     744083\n",
       "chr7      728729\n",
       "chr8      711018\n",
       "chr11     694219\n",
       "chr9      693277\n",
       "chr13     669700\n",
       "chr14     659606\n",
       "chr12     644137\n",
       "chr15     568963\n",
       "chr16     561569\n",
       "chr17     517916\n",
       "chr18     507764\n",
       "chr19     342007\n",
       "chrY         399\n",
       "chrM         288\n",
       "Name: count, dtype: int64"
      ]
     },
     "execution_count": 11,
     "metadata": {},
     "output_type": "execute_result"
    }
   ],
   "source": [
    "ring['chrom'].value_counts()"
   ]
  },
  {
   "cell_type": "code",
   "execution_count": null,
   "metadata": {},
   "outputs": [],
   "source": [
    "# # make this into a function\n",
    "# bw = pyBigWig.open(\"/hpcnfs/scratch/DP/amariani/Samato/P124_project/data/ChIPseq_1/results/06bigwig/noSubtract/CTR-VILL-RING1B-15d_NoSpike.bw\")\n",
    "# bw_write = pyBigWig.open(\"/hpcnfs/scratch/DP/amariani/Amariani/denoising_ChIPseq/data/tf/chrom1.bw\", \"w\")\n",
    "\n",
    "# # this info needs to go the newly created BigWig file as the header\n",
    "# # write the header, for now only chrom1\n",
    "# len_chrm1 = bw.chroms()['chr1']\n",
    "# bw_write.addHeader([('chr1', len_chrm1)])\n",
    "# # add entries, create numpy coordinates\n",
    "# chroms = np.array([\"chr1\"] * len(bw.intervals('chr1')))\n",
    "# start = np.array([start[0] for start in bw.intervals('chr1')], dtype=np.int64)\n",
    "# end = np.array([end[1] for end in bw.intervals('chr1')], dtype=np.int64)\n",
    "# value = np.array([value[2] for value in bw.intervals('chr1')], dtype=np.float32)\n",
    "# bw_write.addEntries(chroms, start, ends=end, values = value)\n",
    "# bw_write.close()"
   ]
  }
 ],
 "metadata": {
  "kernelspec": {
   "display_name": "pytorch",
   "language": "python",
   "name": "python3"
  },
  "language_info": {
   "codemirror_mode": {
    "name": "ipython",
    "version": 3
   },
   "file_extension": ".py",
   "mimetype": "text/x-python",
   "name": "python",
   "nbconvert_exporter": "python",
   "pygments_lexer": "ipython3",
   "version": "3.11.5"
  }
 },
 "nbformat": 4,
 "nbformat_minor": 2
}
